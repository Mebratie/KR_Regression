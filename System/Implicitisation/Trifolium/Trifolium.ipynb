{
 "cells": [
  {
   "cell_type": "code",
   "execution_count": 58,
   "id": "3523b99d",
   "metadata": {},
   "outputs": [],
   "source": [
    "import numpy as np\n",
    "from scipy.integrate import odeint\n",
    "import matplotlib.pyplot as plt\n",
    "import csv\n",
    "import pandas as pd\n",
    "import itertools\n",
    "import math\n",
    "import os\n",
    "import sympy as sp\n",
    "import random\n",
    "from sklearn.model_selection import train_test_split\n",
    "from sympy import symbols, Function, diff\n",
    "output_directory = r'../../../System/Implicitisation/Trifolium'\n",
    "output_directory1 = r'../../../Data/Implicitisation/Trifolium'\n",
    "output_directory2 = r'../../../results/Implicitisation/Trifolium'\n",
    "def parametric_equations(t):\n",
    "    x1 = 4 * np.sin(t)**4 - 3 * np.sin(t)**2\n",
    "    x2 = -np.sin(t) * np.cos(t) * (4 * np.sin(t)**2 - 3)\n",
    "    trajectory = 0\n",
    "    return x1, x2, trajectory\n",
    "def write_data_to_csv(file_path, fieldnames, t_values):\n",
    "    with open(file_path, 'w', newline='') as csvfile:\n",
    "        writer = csv.DictWriter(csvfile, fieldnames=fieldnames)\n",
    "        writer.writeheader()\n",
    "        for t in t_values[:-1]:\n",
    "            x1, x2, trajectory = parametric_equations(t)\n",
    "            writer.writerow({'x1': x1, 'x2': x2, 'trajectory': trajectory})\n",
    "        writer.writerow({'x1': -1.0, 'x2': 0.0, 'trajectory': 1})\n",
    "def plot_data(file_path):\n",
    "    data = np.genfromtxt(file_path, delimiter=',', names=True)\n",
    "    plt.plot(data['x1'], data['x2'])\n",
    "    plt.xlabel('x1')\n",
    "    plt.ylabel('x2')\n",
    "    plt.xlim(-1, 1)\n",
    "    plt.ylim(-1, 1)\n",
    "    plt.axhline(0, color='black', linewidth=1, linestyle='--', label='Horizontal Line')\n",
    "    plt.axvline(0, color='black', linewidth=1, linestyle='--', label='Vertical Line')\n",
    "    plt.savefig(os.path.join(output_directory2, 'trajectory.png'))\n",
    "    plt.close()\n",
    "def main():\n",
    "    file_path = os.path.join(output_directory, '50.csv')\n",
    "    fieldnames = ['x1', 'x2', 'trajectory']\n",
    "    t_values = np.linspace(0, np.pi, 1000)\n",
    "    write_data_to_csv(file_path, fieldnames, t_values)\n",
    "    plot_data(file_path)\n",
    "    data = pd.read_csv(file_path)\n",
    "    X = data[['x1', 'x2']]\n",
    "    y = data['trajectory']\n",
    "    X_train, X_hold, y_train, y_hold = train_test_split(X, y, test_size=0.2, random_state=42)\n",
    "    train_file_path = os.path.join(output_directory1, 'trainingp_data50.csv')\n",
    "    hold_file_path = os.path.join(output_directory1, 'holdoutp_data50.csv')\n",
    "    pd.concat([X_train, y_train], axis=1).to_csv(train_file_path, index=False)\n",
    "    pd.concat([X_hold, y_hold], axis=1).to_csv(hold_file_path, index=False)\n",
    "if __name__ == \"__main__\":\n",
    "    main()"
   ]
  },
  {
   "cell_type": "code",
   "execution_count": null,
   "id": "59b6da84",
   "metadata": {},
   "outputs": [],
   "source": []
  }
 ],
 "metadata": {
  "kernelspec": {
   "display_name": "Python 3 (ipykernel)",
   "language": "python",
   "name": "python3"
  },
  "language_info": {
   "codemirror_mode": {
    "name": "ipython",
    "version": 3
   },
   "file_extension": ".py",
   "mimetype": "text/x-python",
   "name": "python",
   "nbconvert_exporter": "python",
   "pygments_lexer": "ipython3",
   "version": "3.9.13"
  }
 },
 "nbformat": 4,
 "nbformat_minor": 5
}
